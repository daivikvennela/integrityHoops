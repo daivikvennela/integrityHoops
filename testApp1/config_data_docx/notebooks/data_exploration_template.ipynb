{
  "cells": [
    {
      "cell_type": "markdown",
      "metadata": {},
      "source": [
        "# Data Exploration and Analysis\n",
        "\n",
        "Comprehensive exploratory data analysis (EDA) for your dataset.\n"
      ]
    },
    {
      "cell_type": "code",
      "execution_count": null,
      "metadata": {},
      "outputs": [],
      "source": [
        "# Load the data\n",
        "import pandas as pd\n",
        "import numpy as np\n",
        "import matplotlib.pyplot as plt\n",
        "import seaborn as sns\n",
        "\n",
        "# Load your CSV\n",
        "# df = pd.read_csv('your_file.csv')\n",
        "\n",
        "print(\"Dataset Overview\")\n",
        "print(f\"Shape: {df.shape[0]} rows × {df.shape[1]} columns\")\n",
        "print(f\"\\nColumn Names:\\n{df.columns.tolist()}\")\n"
      ]
    },
    {
      "cell_type": "code",
      "execution_count": null,
      "metadata": {},
      "outputs": [],
      "source": [
        "# Display first and last few rows\n",
        "print(\"=== First 5 Rows ===\")\n",
        "display(df.head())\n",
        "\n",
        "print(\"\\n=== Last 5 Rows ===\")\n",
        "display(df.tail())\n"
      ]
    },
    {
      "cell_type": "code",
      "execution_count": null,
      "metadata": {},
      "outputs": [],
      "source": [
        "# Statistical summary\n",
        "print(\"=== Statistical Summary ===\")\n",
        "df.describe()\n"
      ]
    },
    {
      "cell_type": "code",
      "execution_count": null,
      "metadata": {},
      "outputs": [],
      "source": [
        "# Check for missing values\n",
        "print(\"=== Missing Values ===\")\n",
        "missing = df.isnull().sum()\n",
        "missing_pct = (missing / len(df)) * 100\n",
        "\n",
        "missing_df = pd.DataFrame({\n",
        "    'Missing Count': missing,\n",
        "    'Percentage': missing_pct\n",
        "})\n",
        "missing_df = missing_df[missing_df['Missing Count'] > 0].sort_values('Missing Count', ascending=False)\n",
        "\n",
        "if len(missing_df) > 0:\n",
        "    print(missing_df)\n",
        "    \n",
        "    # Visualize missing values\n",
        "    plt.figure(figsize=(10, 6))\n",
        "    missing_df['Missing Count'].plot(kind='bar')\n",
        "    plt.title('Missing Values by Column')\n",
        "    plt.ylabel('Count')\n",
        "    plt.tight_layout()\n",
        "    plt.show()\n",
        "else:\n",
        "    print(\"No missing values found!\")\n"
      ]
    },
    {
      "cell_type": "code",
      "execution_count": null,
      "metadata": {},
      "outputs": [],
      "source": [
        "# Correlation analysis\n",
        "numeric_cols = df.select_dtypes(include=[np.number]).columns\n",
        "\n",
        "if len(numeric_cols) > 1:\n",
        "    plt.figure(figsize=(12, 10))\n",
        "    sns.heatmap(df[numeric_cols].corr(), annot=True, cmap='coolwarm', center=0, \n",
        "                fmt='.2f', square=True, linewidths=1)\n",
        "    plt.title('Correlation Matrix')\n",
        "    plt.tight_layout()\n",
        "    plt.show()\n",
        "else:\n",
        "    print(\"Not enough numeric columns for correlation analysis\")\n"
      ]
    }
  ],
  "metadata": {
    "language_info": {
      "name": "python"
    }
  },
  "nbformat": 4,
  "nbformat_minor": 2
}
