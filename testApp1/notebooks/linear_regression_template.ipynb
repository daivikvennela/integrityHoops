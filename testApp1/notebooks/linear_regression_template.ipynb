{
  "cells": [
    {
      "cell_type": "markdown",
      "metadata": {},
      "source": [
        "# Linear Regression Analysis\n",
        "\n",
        "This notebook demonstrates linear regression modeling on your dataset.\n",
        "\n",
        "## Steps:\n",
        "1. Load and explore data\n",
        "2. Data preprocessing\n",
        "3. Train linear regression model\n",
        "4. Evaluate model performance\n",
        "5. Visualize results\n"
      ]
    },
    {
      "cell_type": "code",
      "execution_count": null,
      "metadata": {},
      "outputs": [],
      "source": [
        "# Step 1: Import libraries and load data\n",
        "import pandas as pd\n",
        "import numpy as np\n",
        "import matplotlib.pyplot as plt\n",
        "import seaborn as sns\n",
        "from sklearn.model_selection import train_test_split\n",
        "from sklearn.linear_model import LinearRegression\n",
        "from sklearn.metrics import mean_squared_error, r2_score, mean_absolute_error\n",
        "\n",
        "# Load your CSV (replace with actual filename)\n",
        "# df = pd.read_csv('your_file.csv')\n",
        "\n",
        "print(\"Dataset loaded successfully!\")\n",
        "print(f\"Shape: {df.shape}\")\n",
        "print(f\"\\nColumns: {df.columns.tolist()}\")\n",
        "df.head()\n"
      ]
    },
    {
      "cell_type": "code",
      "execution_count": null,
      "metadata": {},
      "outputs": [],
      "source": [
        "# Step 2: Explore the data\n",
        "print(\"=== Dataset Information ===\")\n",
        "df.info()\n",
        "\n",
        "print(\"\\n=== Statistical Summary ===\")\n",
        "df.describe()\n"
      ]
    },
    {
      "cell_type": "code",
      "execution_count": null,
      "metadata": {},
      "outputs": [],
      "source": [
        "# Check for missing values\n",
        "print(\"=== Missing Values ===\")\n",
        "missing = df.isnull().sum()\n",
        "print(missing[missing > 0])\n",
        "\n",
        "# Visualize correlations\n",
        "plt.figure(figsize=(12, 10))\n",
        "sns.heatmap(df.corr(), annot=True, cmap='coolwarm', center=0, fmt='.2f')\n",
        "plt.title('Correlation Matrix')\n",
        "plt.tight_layout()\n",
        "plt.show()\n"
      ]
    },
    {
      "cell_type": "code",
      "execution_count": null,
      "metadata": {},
      "outputs": [],
      "source": [
        "# Step 3: Prepare data for modeling\n",
        "# IMPORTANT: Update these column names to match your dataset!\n",
        "target_column = 'target'  # Replace with your target variable\n",
        "feature_columns = ['feature1', 'feature2', 'feature3']  # Replace with your features\n",
        "\n",
        "# Select features and target\n",
        "X = df[feature_columns]\n",
        "y = df[target_column]\n",
        "\n",
        "# Split into training and testing sets\n",
        "X_train, X_test, y_train, y_test = train_test_split(\n",
        "    X, y, test_size=0.2, random_state=42\n",
        ")\n",
        "\n",
        "print(f\"Training set: {X_train.shape[0]} samples\")\n",
        "print(f\"Testing set: {X_test.shape[0]} samples\")\n"
      ]
    },
    {
      "cell_type": "code",
      "execution_count": null,
      "metadata": {},
      "outputs": [],
      "source": [
        "# Step 4: Train the linear regression model\n",
        "model = LinearRegression()\n",
        "model.fit(X_train, y_train)\n",
        "\n",
        "print(\"✓ Model trained successfully!\")\n",
        "print(f\"\\nModel Coefficients:\")\n",
        "for feature, coef in zip(feature_columns, model.coef_):\n",
        "    print(f\"  {feature}: {coef:.4f}\")\n",
        "print(f\"\\nIntercept: {model.intercept_:.4f}\")\n"
      ]
    },
    {
      "cell_type": "code",
      "execution_count": null,
      "metadata": {},
      "outputs": [],
      "source": [
        "# Step 5: Make predictions and evaluate\n",
        "y_pred_train = model.predict(X_train)\n",
        "y_pred_test = model.predict(X_test)\n",
        "\n",
        "# Calculate metrics\n",
        "train_r2 = r2_score(y_train, y_pred_train)\n",
        "test_r2 = r2_score(y_test, y_pred_test)\n",
        "train_rmse = np.sqrt(mean_squared_error(y_train, y_pred_train))\n",
        "test_rmse = np.sqrt(mean_squared_error(y_test, y_pred_test))\n",
        "test_mae = mean_absolute_error(y_test, y_pred_test)\n",
        "\n",
        "print(\"=== Model Performance ===\")\n",
        "print(f\"\\nTraining Set:\")\n",
        "print(f\"  R² Score: {train_r2:.4f}\")\n",
        "print(f\"  RMSE: {train_rmse:.4f}\")\n",
        "print(f\"\\nTesting Set:\")\n",
        "print(f\"  R² Score: {test_r2:.4f}\")\n",
        "print(f\"  RMSE: {test_rmse:.4f}\")\n",
        "print(f\"  MAE: {test_mae:.4f}\")\n"
      ]
    },
    {
      "cell_type": "code",
      "execution_count": null,
      "metadata": {},
      "outputs": [],
      "source": [
        "# Step 6: Visualize results\n",
        "fig, axes = plt.subplots(1, 2, figsize=(16, 6))\n",
        "\n",
        "# Plot 1: Actual vs Predicted\n",
        "axes[0].scatter(y_test, y_pred_test, alpha=0.6, s=50)\n",
        "axes[0].plot([y_test.min(), y_test.max()], \n",
        "             [y_test.min(), y_test.max()], \n",
        "             'r--', lw=3, label='Perfect Prediction')\n",
        "axes[0].set_xlabel('Actual Values', fontsize=12, fontweight='bold')\n",
        "axes[0].set_ylabel('Predicted Values', fontsize=12, fontweight='bold')\n",
        "axes[0].set_title(f'Actual vs Predicted (R² = {test_r2:.4f})', \n",
        "                  fontsize=14, fontweight='bold')\n",
        "axes[0].legend()\n",
        "axes[0].grid(True, alpha=0.3)\n",
        "\n",
        "# Plot 2: Residuals\n",
        "residuals = y_test - y_pred_test\n",
        "axes[1].scatter(y_pred_test, residuals, alpha=0.6, s=50)\n",
        "axes[1].axhline(y=0, color='r', linestyle='--', lw=3, label='Zero Residual')\n",
        "axes[1].set_xlabel('Predicted Values', fontsize=12, fontweight='bold')\n",
        "axes[1].set_ylabel('Residuals', fontsize=12, fontweight='bold')\n",
        "axes[1].set_title('Residual Plot', fontsize=14, fontweight='bold')\n",
        "axes[1].legend()\n",
        "axes[1].grid(True, alpha=0.3)\n",
        "\n",
        "plt.tight_layout()\n",
        "plt.show()\n"
      ]
    }
  ],
  "metadata": {
    "language_info": {
      "name": "python"
    }
  },
  "nbformat": 4,
  "nbformat_minor": 2
}
